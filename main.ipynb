{
 "cells": [
  {
   "cell_type": "code",
   "execution_count": 1,
   "metadata": {},
   "outputs": [],
   "source": [
    "import numpy as np\n",
    "import pandas as pd"
   ]
  },
  {
   "cell_type": "markdown",
   "metadata": {},
   "source": [
    "# Part I"
   ]
  },
  {
   "cell_type": "markdown",
   "metadata": {},
   "source": [
    "\n",
    "\n",
    "Approach:\n",
    "\n",
    "1. Set critical parameters:\n",
    "- Total number of students in applicant pool: 100\n",
    "- Number of students in advantaged pool: 50\n",
    "- Number of students in disadvantaged pool: 50\n",
    "- Probability a student has x_i = 1 for x in [1,2] if from advantaged group: 2/3\n",
    "- Probability a student has x_i = 1 for x in [1,2] if from disadvantaged group: 1/3\n",
    "\n",
    "2. Initialize student pool based on above parameters.\n",
    "- Note: can use numpy.random() to generate random numbers between 0 and 1, allows us to model simple probabilities.\n",
    "\n",
    "3. For each of the four scenarios, generate table of student f-value rankings based on x_1 and x_2 for a given student, and include information on whether they are from the advantaged group (A) or disadvantaged group (D).\n",
    "- Scenario 1: Use both x_1 and x_2 information but not group information\n",
    "- Scenario 2: Do not use x_2 and do not use group membership nformation\n",
    "- Scenario 3: Do not use x_2, but use group membership information.\n",
    "- Scenario 4: Use x_2 for students in D but do not use group membership information otherwise.\n",
    "\n",
    "4. Calculate the average f-value for the top 5/18 of the students in the pool for each scenario (efficiency of algorithm). -> 27 students\n",
    "\n",
    "5. Assess the proportion of admitted students in A and D and compare to the proportion of students in the applicant pool from A and D (equity of algorithm).\n",
    "\n",
    "6. Repeat above analysis (steps 2-5) for a large number of iterations to check if the algorithm converges to the theoretical expectation."
   ]
  },
  {
   "cell_type": "code",
   "execution_count": null,
   "metadata": {},
   "outputs": [
    {
     "data": {
      "text/plain": [
       "50"
      ]
     },
     "execution_count": 41,
     "metadata": {},
     "output_type": "execute_result"
    }
   ],
   "source": [
    "## Initialize student pool based on above parameters\n",
    "def disadvantaged_random():\n",
    "    val = np.random.random()\n",
    "    if (val) >= 0.67:\n",
    "        return 1\n",
    "    else:\n",
    "        return 0\n",
    "\n",
    "def advantaged_random():\n",
    "    val = np.random.random()\n",
    "    if (val) >= 0.34:\n",
    "        return 1\n",
    "    else: \n",
    "        return 0\n",
    "\n",
    "d_x1 = []\n",
    "d_x2 = []\n",
    "a_x1 = []\n",
    "a_x2 = []\n",
    "for x in range(0,50):\n",
    "    d_x1.append(disadvantaged_random())\n",
    "    d_x2.append(disadvantaged_random())\n",
    "    a_x1.append(advantaged_random())\n",
    "    a_x2.append(advantaged_random())\n",
    "\n",
    "\n"
   ]
  },
  {
   "cell_type": "code",
   "execution_count": 44,
   "metadata": {},
   "outputs": [],
   "source": [
    "x_1 = a_x1 + d_x1\n",
    "x_2 = a_x2 + d_x2\n",
    "g = ['A' for x in range(0,50)] + ['B' for x in range(0,50)]\n",
    "f = []\n",
    "\n",
    "\n",
    "students_df = pd.DataFrame({\"x_1\":x_1,\n",
    "                            \"x_2\":x_2,\n",
    "                            \"g\":g })"
   ]
  },
  {
   "cell_type": "code",
   "execution_count": 45,
   "metadata": {},
   "outputs": [],
   "source": [
    "students_df[\"f\"] = students_df.apply(lambda x: 1  if (x[\"x_1\"]==1 and x[\"x_2\"]==1) else 0, axis=1)"
   ]
  },
  {
   "cell_type": "code",
   "execution_count": 49,
   "metadata": {},
   "outputs": [
    {
     "data": {
      "text/html": [
       "<div>\n",
       "<style scoped>\n",
       "    .dataframe tbody tr th:only-of-type {\n",
       "        vertical-align: middle;\n",
       "    }\n",
       "\n",
       "    .dataframe tbody tr th {\n",
       "        vertical-align: top;\n",
       "    }\n",
       "\n",
       "    .dataframe thead th {\n",
       "        text-align: right;\n",
       "    }\n",
       "</style>\n",
       "<table border=\"1\" class=\"dataframe\">\n",
       "  <thead>\n",
       "    <tr style=\"text-align: right;\">\n",
       "      <th></th>\n",
       "      <th>x_1</th>\n",
       "      <th>x_2</th>\n",
       "      <th>g</th>\n",
       "      <th>f</th>\n",
       "    </tr>\n",
       "  </thead>\n",
       "  <tbody>\n",
       "    <tr>\n",
       "      <th>0</th>\n",
       "      <td>0</td>\n",
       "      <td>1</td>\n",
       "      <td>A</td>\n",
       "      <td>0</td>\n",
       "    </tr>\n",
       "    <tr>\n",
       "      <th>71</th>\n",
       "      <td>1</td>\n",
       "      <td>0</td>\n",
       "      <td>B</td>\n",
       "      <td>0</td>\n",
       "    </tr>\n",
       "    <tr>\n",
       "      <th>69</th>\n",
       "      <td>1</td>\n",
       "      <td>0</td>\n",
       "      <td>B</td>\n",
       "      <td>0</td>\n",
       "    </tr>\n",
       "    <tr>\n",
       "      <th>68</th>\n",
       "      <td>0</td>\n",
       "      <td>1</td>\n",
       "      <td>B</td>\n",
       "      <td>0</td>\n",
       "    </tr>\n",
       "    <tr>\n",
       "      <th>67</th>\n",
       "      <td>0</td>\n",
       "      <td>1</td>\n",
       "      <td>B</td>\n",
       "      <td>0</td>\n",
       "    </tr>\n",
       "    <tr>\n",
       "      <th>...</th>\n",
       "      <td>...</td>\n",
       "      <td>...</td>\n",
       "      <td>...</td>\n",
       "      <td>...</td>\n",
       "    </tr>\n",
       "    <tr>\n",
       "      <th>70</th>\n",
       "      <td>1</td>\n",
       "      <td>1</td>\n",
       "      <td>B</td>\n",
       "      <td>1</td>\n",
       "    </tr>\n",
       "    <tr>\n",
       "      <th>32</th>\n",
       "      <td>1</td>\n",
       "      <td>1</td>\n",
       "      <td>A</td>\n",
       "      <td>1</td>\n",
       "    </tr>\n",
       "    <tr>\n",
       "      <th>27</th>\n",
       "      <td>1</td>\n",
       "      <td>1</td>\n",
       "      <td>A</td>\n",
       "      <td>1</td>\n",
       "    </tr>\n",
       "    <tr>\n",
       "      <th>13</th>\n",
       "      <td>1</td>\n",
       "      <td>1</td>\n",
       "      <td>A</td>\n",
       "      <td>1</td>\n",
       "    </tr>\n",
       "    <tr>\n",
       "      <th>23</th>\n",
       "      <td>1</td>\n",
       "      <td>1</td>\n",
       "      <td>A</td>\n",
       "      <td>1</td>\n",
       "    </tr>\n",
       "  </tbody>\n",
       "</table>\n",
       "<p>100 rows × 4 columns</p>\n",
       "</div>"
      ],
      "text/plain": [
       "    x_1  x_2  g  f\n",
       "0     0    1  A  0\n",
       "71    1    0  B  0\n",
       "69    1    0  B  0\n",
       "68    0    1  B  0\n",
       "67    0    1  B  0\n",
       "..  ...  ... .. ..\n",
       "70    1    1  B  1\n",
       "32    1    1  A  1\n",
       "27    1    1  A  1\n",
       "13    1    1  A  1\n",
       "23    1    1  A  1\n",
       "\n",
       "[100 rows x 4 columns]"
      ]
     },
     "execution_count": 49,
     "metadata": {},
     "output_type": "execute_result"
    }
   ],
   "source": [
    "students_df.sort_values([\"f\"], ascending=True)"
   ]
  },
  {
   "cell_type": "code",
   "execution_count": null,
   "metadata": {},
   "outputs": [
    {
     "data": {
      "text/plain": [
       "0.24"
      ]
     },
     "execution_count": 51,
     "metadata": {},
     "output_type": "execute_result"
    }
   ],
   "source": [
    "# % of students with (1,1)\n",
    "np.mean(students_df[\"f\"])\n",
    "\n",
    "# f average of students admitted (aim:27)\n",
    "    # for "
   ]
  },
  {
   "cell_type": "markdown",
   "metadata": {},
   "source": [
    "PART II\n",
    "\n",
    "Approach:\n",
    "1. Define how the college admittance status and group membership of each Generation 1 student impacts the group membership of each Generation 2 student.\n",
    "- Note: Assume asexual reproduction, each Generation 1 student produces 1 Generation 2 student that is influenced by their parent.\n",
    "\n",
    "2. Define parameters for x_1 and x_2 probabilities for subsequent generations as influenced by group membership that is influenced by the previous generation's group membership and admittance to college.\n",
    "\n",
    "3. Use the algorithm from Part I to simulate college admissions process for the next generation based on the previous generation's group membership and college admission status.\n",
    "\n",
    "4. Repeat step 3. for 100-1000 generations.\n",
    "\n",
    "5. Assess the social mobility (change in proportion of groups A and D over time) in all four scenarios.\n",
    "\n",
    "6. Perform sensitivity analysis by varying the parameters of the model and then assessing the social mobility?"
   ]
  },
  {
   "cell_type": "code",
   "execution_count": null,
   "metadata": {},
   "outputs": [],
   "source": []
  }
 ],
 "metadata": {
  "kernelspec": {
   "display_name": "datastack",
   "language": "python",
   "name": "python3"
  },
  "language_info": {
   "codemirror_mode": {
    "name": "ipython",
    "version": 3
   },
   "file_extension": ".py",
   "mimetype": "text/x-python",
   "name": "python",
   "nbconvert_exporter": "python",
   "pygments_lexer": "ipython3",
   "version": "3.12.6"
  }
 },
 "nbformat": 4,
 "nbformat_minor": 2
}
