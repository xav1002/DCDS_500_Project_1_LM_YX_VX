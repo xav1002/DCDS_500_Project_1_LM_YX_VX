{
 "cells": [
  {
   "cell_type": "markdown",
   "metadata": {},
   "source": [
    "PART I\n",
    "\n",
    "Approach:\n",
    "\n",
    "1. Set critical parameters:\n",
    "- Total number of students in applicant pool: 100\n",
    "- Number of students in advantaged pool: 50\n",
    "- Number of students in disadvantaged pool: 50\n",
    "- Probability a student has x_i = 1 for x in [1,2] if from advantaged group: 2/3\n",
    "- Probability a student has x_i = 1 for x in [1,2] if from advantaged group: 1/3\n",
    "\n",
    "2. Initialize student pool based on above parameters.\n",
    "- Note: can use numpy.random() to generate random numbers between 0 and 1, allows us to model simple probabilities.\n",
    "\n",
    "3. For each of the four scenarios, generate table of student f-value rankings based on x_1 and x_2 for a given student, and include information on whether they are from the advantaged group (A) or disadvantaged group (D).\n",
    "- Scenario 1: Use both x_1 and x_2 information but not group information\n",
    "- Scenario 2: Do not use x_2 and do not use group membership nformation\n",
    "- Scenario 3: Do not use x_2, but use group membership information.\n",
    "- Scenario 4: Use x_2 for students in D but do not use group membership information otherwise.\n",
    "\n",
    "4. Calculate the average f-value for the top 5/18 of the students in the pool for each scenario (efficiency of algorithm).\n",
    "\n",
    "5. Assess the proportion of admitted students in A and D and compare to the proportion of students in the applicant pool from A and D (equity of algorithm).\n",
    "\n",
    "6. Repeat above analysis (steps 2-5) for a large number of iterations to check if the algorithm converges to the theoretical expectation."
   ]
  },
  {
   "cell_type": "code",
   "execution_count": null,
   "metadata": {},
   "outputs": [],
   "source": []
  },
  {
   "cell_type": "markdown",
   "metadata": {},
   "source": [
    "PART II\n",
    "\n",
    "Approach:\n",
    "1. Define how the college admittance status and group membership of each Generation 1 student impacts the group membership of each Generation 2 student.\n",
    "- Note: Assume asexual reproduction, each Generation 1 student produces 1 Generation 2 student that is influenced by their parent.\n",
    "\n",
    "2. Define parameters for x_1 and x_2 probabilities for subsequent generations as influenced by group membership that is influenced by the previous generation's group membership and admittance to college.\n",
    "\n",
    "3. Use the algorithm from Part I to simulate college admissions process for the next generation based on the previous generation's group membership and college admission status.\n",
    "\n",
    "4. Repeat step 3. for 100-1000 generations.\n",
    "\n",
    "5. Assess the social mobility (change in proportion of groups A and D over time) in all four scenarios.\n",
    "\n",
    "6. Perform sensitivity analysis by varying the parameters of the model and then assessing the social mobility?"
   ]
  },
  {
   "cell_type": "code",
   "execution_count": null,
   "metadata": {},
   "outputs": [],
   "source": []
  }
 ],
 "metadata": {
  "kernelspec": {
   "display_name": ".venv",
   "language": "python",
   "name": "python3"
  },
  "language_info": {
   "name": "python",
   "version": "3.11.9"
  }
 },
 "nbformat": 4,
 "nbformat_minor": 2
}
